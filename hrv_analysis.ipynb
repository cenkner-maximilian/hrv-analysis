{
 "cells": [
  {
   "cell_type": "markdown",
   "metadata": {},
   "source": [
    "📊DATA ANALYSIS | HRV READINGS\n"
   ]
  },
  {
   "cell_type": "markdown",
   "metadata": {},
   "source": [
    "Welcome to the notebook, where I'll be deeply guiding you through my data exploration and cleaning! For analysis goals and more, check out README.md"
   ]
  },
  {
   "cell_type": "markdown",
   "metadata": {},
   "source": [
    "-------------------- DATA LOADING --------------------"
   ]
  },
  {
   "cell_type": "code",
   "execution_count": 1,
   "metadata": {},
   "outputs": [
    {
     "name": "stderr",
     "output_type": "stream",
     "text": [
      "/var/folders/2z/c0vlbc051p358_h97n3k8g340000gn/T/ipykernel_3602/1158099072.py:4: DtypeWarning: Columns (7,8) have mixed types. Specify dtype option on import or set low_memory=False.\n",
      "  health_data = pd.read_csv(\"health_data.csv\")\n"
     ]
    }
   ],
   "source": [
    "import pandas as pd\n",
    "import matplotlib.pyplot as plt\n",
    "import seaborn as sns\n",
    "health_data = pd.read_csv(\"health_data.csv\")\n"
   ]
  },
  {
   "cell_type": "markdown",
   "metadata": {},
   "source": [
    "-------------------- EDA + DATA CLEANING --------------------"
   ]
  },
  {
   "cell_type": "code",
   "execution_count": 2,
   "metadata": {},
   "outputs": [
    {
     "name": "stdout",
     "output_type": "stream",
     "text": [
      "type              0.000000\n",
      "sourceName        0.000000\n",
      "sourceVersion     0.067726\n",
      "unit              2.118789\n",
      "creationDate      0.000000\n",
      "startDate         0.000000\n",
      "endDate           0.000000\n",
      "value             2.118789\n",
      "device           10.538920\n",
      "Length            0.000000\n",
      "dtype: float64\n"
     ]
    }
   ],
   "source": [
    "for col in [\"creationDate\", \"startDate\", \"endDate\"]:\n",
    "    health_data[col] = pd.to_datetime(health_data[col], format=\"%Y-%m-%d %H:%M:%S %z\")\n",
    "\n",
    "health_data[\"value\"] = pd.to_numeric(health_data[\"value\"], errors=\"coerce\")\n",
    "health_data[\"Length\"] = (health_data[\"endDate\"] - health_data[\"startDate\"]).dt.total_seconds().astype(\"Int64\")\n",
    "\n",
    "#Calculating if there are more \n",
    "nan_percent = health_data.isna().mean() * 100\n",
    "print(nan_percent)\n",
    "\n",
    "#Dropping not needed columns\n",
    "drop_cols = nan_percent[nan_percent > 50].index\n",
    "health_data.drop(columns=drop_cols, inplace=True)\n",
    "health_data.drop(columns=[col for col in [\"device\", \"sourceVersion\", \"sourceName\"] if col in health_data.columns], inplace=True)"
   ]
  },
  {
   "cell_type": "markdown",
   "metadata": {},
   "source": [
    "There are no columns with over 60% missing values, I don't need to remove any columns because of too much data missing, but for my measurements, I actually dont need the columns sourceVersion, sourceName or device, because these measurements are irrelevant for my analysis and would only clutter my workspace."
   ]
  },
  {
   "cell_type": "code",
   "execution_count": 3,
   "metadata": {},
   "outputs": [],
   "source": [
    "HRV = health_data[health_data[\"type\"] == \"HKQuantityTypeIdentifierHeartRateVariabilitySDNN\"].reset_index(drop=True)\n",
    "del HRV[\"type\"]\n",
    "REST_HEART_RATE = health_data[health_data[\"type\"] == \"HKQuantityTypeIdentifierRestingHeartRate\"].reset_index(drop=True)\n",
    "del REST_HEART_RATE[\"type\"]\n",
    "SLEEP_TIME = health_data[health_data[\"type\"] == \"HKCategoryTypeIdentifierSleepAnalysis\"].reset_index(drop=True)\n",
    "del SLEEP_TIME[\"type\"]\n",
    "RESPIRATORY_RATE = health_data[health_data[\"type\"] == \"HKQuantityTypeIdentifierRespiratoryRate\"].reset_index(drop=True)\n",
    "del RESPIRATORY_RATE[\"type\"]\n",
    "VO2MAX =  health_data[health_data[\"type\"] == \"HKQuantityTypeIdentifierVO2Max\"].reset_index(drop=True)\n",
    "del VO2MAX[\"type\"]"
   ]
  },
  {
   "cell_type": "markdown",
   "metadata": {},
   "source": [
    "STEP 1: Calculate the yearly average for: HRV, RESTING HEART-RATE, SLEEP TIME, RESPIRATORY RATE, VO2MAX"
   ]
  },
  {
   "cell_type": "code",
   "execution_count": 4,
   "metadata": {},
   "outputs": [
    {
     "name": "stdout",
     "output_type": "stream",
     "text": [
      "        unit              creationDate                 startDate  \\\n",
      "0  count/min 2024-10-14 23:57:27+02:00 2024-10-14 00:02:46+02:00   \n",
      "1  count/min 2024-10-14 23:57:27+02:00 2024-10-13 10:10:56+02:00   \n",
      "2  count/min 2024-10-16 14:44:27+02:00 2024-10-15 08:18:58+02:00   \n",
      "3  count/min 2024-10-16 22:47:47+02:00 2024-10-16 08:49:04+02:00   \n",
      "4  count/min 2024-10-18 10:42:30+02:00 2024-10-17 00:01:53+02:00   \n",
      "\n",
      "                    endDate  value  Length  \n",
      "0 2024-10-14 23:28:35+02:00   78.0   84349  \n",
      "1 2024-10-13 23:57:56+02:00   70.0   49620  \n",
      "2 2024-10-15 22:34:44+02:00   73.0   51346  \n",
      "3 2024-10-16 22:41:00+02:00   72.0   49916  \n",
      "4 2024-10-17 23:56:31+02:00   68.0   86078  \n"
     ]
    }
   ],
   "source": [
    "\n",
    "\n",
    "\n",
    "\n",
    "#Printing out HRV averages\n",
    "#for i in range(2019, 2025):\n",
    "#    average_HRV = HRV.loc[HRV[\"startDate\"].dt.year == i, \"value\"].mean()\n",
    "#    avg_heart = REST_HEART_RATE.loc[REST_HEART_RATE[\"startDate\"].dt.year == i, \"value\"].mean()\n",
    "#    avg_sleep = SLEEP_TIME.loc[SLEEP_TIME[\"startDate\"].dt.year == i, \"value\"].mean()\n",
    "#    avg_resp = RESPIRATORY_RATE.loc[RESPIRATORY_RATE[\"startDate\"].dt.year == i, \"value\"].mean()\n",
    "#    avg_vo2max = VO2MAX.loc[VO2MAX[\"startDate\"].dt.year == i, \"value\"].mean()\n",
    "#    print(f\"{i}: {average_HRV}\")\n",
    "\n",
    "#print(HRV.head())\n",
    "\n",
    "print(REST_HEART_RATE.head())"
   ]
  }
 ],
 "metadata": {
  "kernelspec": {
   "display_name": "base",
   "language": "python",
   "name": "python3"
  },
  "language_info": {
   "codemirror_mode": {
    "name": "ipython",
    "version": 3
   },
   "file_extension": ".py",
   "mimetype": "text/x-python",
   "name": "python",
   "nbconvert_exporter": "python",
   "pygments_lexer": "ipython3",
   "version": "3.12.7"
  }
 },
 "nbformat": 4,
 "nbformat_minor": 2
}
